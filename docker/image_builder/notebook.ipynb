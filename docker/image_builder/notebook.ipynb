{
 "cells": [
  {
   "cell_type": "code",
   "execution_count": 1,
   "metadata": {
    "collapsed": false
   },
   "outputs": [],
   "source": [
    "import sys\n",
    "sys.path.insert(0, '/local/shared/store/')\n",
    "sys.path.insert(0, '/local/shared/tools/')"
   ]
  },
  {
   "cell_type": "code",
   "execution_count": 2,
   "metadata": {
    "collapsed": true
   },
   "outputs": [],
   "source": [
    "from importlib import reload"
   ]
  },
  {
   "cell_type": "code",
   "execution_count": 3,
   "metadata": {
    "collapsed": false
   },
   "outputs": [
    {
     "name": "stdout",
     "output_type": "stream",
     "text": [
      "/local/image_builder/app\n"
     ]
    }
   ],
   "source": [
    "cd app"
   ]
  },
  {
   "cell_type": "code",
   "execution_count": 4,
   "metadata": {
    "collapsed": false
   },
   "outputs": [
    {
     "data": {
      "text/plain": [
       "'/local/image_builder/app'"
      ]
     },
     "execution_count": 4,
     "metadata": {},
     "output_type": "execute_result"
    }
   ],
   "source": [
    "pwd"
   ]
  },
  {
   "cell_type": "markdown",
   "metadata": {},
   "source": [
    "-----"
   ]
  },
  {
   "cell_type": "code",
   "execution_count": 21,
   "metadata": {
    "collapsed": false
   },
   "outputs": [
    {
     "data": {
      "text/plain": [
       "<module 'image_builder' from '/local/image_builder/app/image_builder.py'>"
      ]
     },
     "execution_count": 21,
     "metadata": {},
     "output_type": "execute_result"
    }
   ],
   "source": [
    "import image_builder\n",
    "reload(image_builder)"
   ]
  },
  {
   "cell_type": "code",
   "execution_count": 22,
   "metadata": {
    "collapsed": false
   },
   "outputs": [],
   "source": [
    "c = open('foo.tgz', 'rb').read()"
   ]
  },
  {
   "cell_type": "code",
   "execution_count": 23,
   "metadata": {
    "collapsed": false
   },
   "outputs": [],
   "source": [
    "srv = image_builder.Service('foo', name='spam', version=12, namespace='bar', code_content=c, code_filename='foo.tgz')"
   ]
  },
  {
   "cell_type": "code",
   "execution_count": 24,
   "metadata": {
    "collapsed": false
   },
   "outputs": [
    {
     "data": {
      "text/plain": [
       "'bar.spam_v12'"
      ]
     },
     "execution_count": 24,
     "metadata": {},
     "output_type": "execute_result"
    }
   ],
   "source": [
    "srv.identifier"
   ]
  },
  {
   "cell_type": "code",
   "execution_count": 25,
   "metadata": {
    "collapsed": false
   },
   "outputs": [
    {
     "name": "stdout",
     "output_type": "stream",
     "text": [
      "{\"stream\":\"Step 0 : FROM python\\n\"}\r\n",
      "\n",
      "{\"stream\":\" ---\\u003e 545faa5764ae\\n\"}\r\n",
      "\n",
      "{\"stream\":\"Step 1 : ADD . /root/user_code\\n\"}\r\n",
      "\n",
      "{\"stream\":\" ---\\u003e 062d73d3aff6\\n\"}\r\n",
      "\n",
      "{\"stream\":\"Step 2 : ENV MAIN_MODULE_NAME src.main\\n\"}\r\n",
      "\n",
      "{\"stream\":\" ---\\u003e Running in bcc546dfabe9\\n\"}\r\n",
      "\n",
      "{\"stream\":\" ---\\u003e 87db13ac41b4\\n\"}\r\n",
      "\n",
      "{\"stream\":\"Successfully built 87db13ac41b4\\n\"}\r\n",
      "\n"
     ]
    }
   ],
   "source": [
    "srv.register()"
   ]
  },
  {
   "cell_type": "code",
   "execution_count": 10,
   "metadata": {
    "collapsed": false
   },
   "outputs": [],
   "source": [
    "import stores"
   ]
  },
  {
   "cell_type": "code",
   "execution_count": 11,
   "metadata": {
    "collapsed": false
   },
   "outputs": [
    {
     "data": {
      "text/plain": [
       "[b'foo', b'c658dd6334fa4d10b8e1109cdbf4b838', b'foo.goo_v0.1', b'guid', b'xx']"
      ]
     },
     "execution_count": 11,
     "metadata": {},
     "output_type": "execute_result"
    }
   ],
   "source": [
    "list(stores.registration_store.keys())"
   ]
  },
  {
   "cell_type": "code",
   "execution_count": 14,
   "metadata": {
    "collapsed": false
   },
   "outputs": [
    {
     "data": {
      "text/plain": [
       "{'status': 'success'}"
      ]
     },
     "execution_count": 14,
     "metadata": {},
     "output_type": "execute_result"
    }
   ],
   "source": [
    "stores.registration_store['foo']"
   ]
  },
  {
   "cell_type": "code",
   "execution_count": 13,
   "metadata": {
    "collapsed": false
   },
   "outputs": [
    {
     "name": "stdout",
     "output_type": "stream",
     "text": [
      "Traceback (most recent call last):\n",
      "  File \"/local/image_builder/app/image_builder.py\", line 55, in start_registration\n",
      "    service = do_register(args)\n",
      "  File \"/local/image_builder/app/image_builder.py\", line 78, in do_register\n",
      "    service = register_git_repository(args)\n",
      "NameError: name 'register_git_repository' is not defined\n",
      "\n"
     ]
    }
   ],
   "source": [
    "print(_['traceback'])"
   ]
  },
  {
   "cell_type": "code",
   "execution_count": 15,
   "metadata": {
    "collapsed": false
   },
   "outputs": [
    {
     "data": {
      "text/plain": [
       "{'identity': {'code_filename': 'foo.tgz',\n",
       "  'git_branch': 'master',\n",
       "  'git_repository': None,\n",
       "  'metadata_path': '',\n",
       "  'name': 'spam',\n",
       "  'namespace': 'bar',\n",
       "  'notify': '',\n",
       "  'user': 'anonymous',\n",
       "  'version': 12},\n",
       " 'metadata': {'description': '',\n",
       "  'endpoints': {'/search': {'parameters': [{'description': 'A foo parameter',\n",
       "      'name': 'foo',\n",
       "      'type': 'string'}],\n",
       "    'response': {'description': 'just an integer', 'type': 'integer'}}},\n",
       "  'json_path': '',\n",
       "  'language': 'python',\n",
       "  'main_module': 'src.main',\n",
       "  'main_module_path': '',\n",
       "  'name': 'spam',\n",
       "  'requirements': [],\n",
       "  'type': 'query',\n",
       "  'url': 'http://example.com',\n",
       "  'version': 12,\n",
       "  'whitelist': []}}"
      ]
     },
     "execution_count": 15,
     "metadata": {},
     "output_type": "execute_result"
    }
   ],
   "source": [
    "stores.service_store['bar.spam_v12']"
   ]
  },
  {
   "cell_type": "code",
   "execution_count": 27,
   "metadata": {
    "collapsed": false
   },
   "outputs": [
    {
     "name": "stdout",
     "output_type": "stream",
     "text": [
      "/local/image_builder\n"
     ]
    }
   ],
   "source": [
    "cd .."
   ]
  },
  {
   "cell_type": "code",
   "execution_count": 32,
   "metadata": {
    "collapsed": true
   },
   "outputs": [],
   "source": [
    "g = image_builder.DOCKER.build(path='.', tag='fooo', quiet=False)"
   ]
  },
  {
   "cell_type": "code",
   "execution_count": 33,
   "metadata": {
    "collapsed": false
   },
   "outputs": [
    {
     "data": {
      "text/plain": [
       "[b'{\"stream\":\"Step 0 : FROM python:3.4.3\\\\n\"}\\r\\n',\n",
       " b'{\"stream\":\" ---\\\\u003e 2916985fe29a\\\\n\"}\\r\\n',\n",
       " b'{\"stream\":\"Step 1 : ADD . /adama\\\\n\"}\\r\\n',\n",
       " b'{\"stream\":\" ---\\\\u003e ab46b5c58535\\\\n\"}\\r\\n',\n",
       " b'{\"stream\":\"Step 2 : WORKDIR /adama/docker/shared/store\\\\n\"}\\r\\n',\n",
       " b'{\"stream\":\" ---\\\\u003e Running in 72adb79a1051\\\\n\"}\\r\\n',\n",
       " b'{\"stream\":\" ---\\\\u003e d8b7e445cc45\\\\n\"}\\r\\n',\n",
       " b'{\"stream\":\"Step 3 : RUN pip install -r requirements.txt\\\\n\"}\\r\\n',\n",
       " b'{\"stream\":\" ---\\\\u003e Running in bf046f6d5ece\\\\n\"}\\r\\n',\n",
       " b'{\"errorDetail\":{\"code\":1,\"message\":\"The command \\'/bin/sh -c pip install -r requirements.txt\\' returned a non-zero code: 1\"},\"error\":\"The command \\'/bin/sh -c pip install -r requirements.txt\\' returned a non-zero code: 1\"}\\r\\n']"
      ]
     },
     "execution_count": 33,
     "metadata": {},
     "output_type": "execute_result"
    }
   ],
   "source": [
    "list(g)"
   ]
  },
  {
   "cell_type": "code",
   "execution_count": 34,
   "metadata": {
    "collapsed": true
   },
   "outputs": [],
   "source": [
    "g = image_builder.DOCKER.build(path='.', tag='fooo', quiet=False)"
   ]
  },
  {
   "cell_type": "code",
   "execution_count": 35,
   "metadata": {
    "collapsed": false
   },
   "outputs": [
    {
     "data": {
      "text/plain": [
       "[b'{\"stream\":\"Step 0 : FROM python:3.4.3\\\\n\"}\\r\\n',\n",
       " b'{\"stream\":\" ---\\\\u003e 2916985fe29a\\\\n\"}\\r\\n',\n",
       " b'{\"stream\":\"Step 1 : ADD . /adama\\\\n\"}\\r\\n',\n",
       " b'{\"stream\":\" ---\\\\u003e Using cache\\\\n\"}\\r\\n',\n",
       " b'{\"stream\":\" ---\\\\u003e ab46b5c58535\\\\n\"}\\r\\n',\n",
       " b'{\"stream\":\"Step 2 : WORKDIR /adama/docker/shared/store\\\\n\"}\\r\\n',\n",
       " b'{\"stream\":\" ---\\\\u003e Using cache\\\\n\"}\\r\\n',\n",
       " b'{\"stream\":\" ---\\\\u003e d8b7e445cc45\\\\n\"}\\r\\n',\n",
       " b'{\"stream\":\"Step 3 : RUN pip install -r requirements.txt\\\\n\"}\\r\\n',\n",
       " b'{\"stream\":\" ---\\\\u003e Running in 4ae37e25603c\\\\n\"}\\r\\n',\n",
       " b'{\"stream\":\"\\\\u001b[91mCould not open requirements file: [Errno 2] No such file or directory: \\'requirements.txt\\'\\\\n\\\\u001b[0m\"}\\r\\n',\n",
       " b'{\"errorDetail\":{\"code\":1,\"message\":\"The command \\'/bin/sh -c pip install -r requirements.txt\\' returned a non-zero code: 1\"},\"error\":\"The command \\'/bin/sh -c pip install -r requirements.txt\\' returned a non-zero code: 1\"}\\r\\n']"
      ]
     },
     "execution_count": 35,
     "metadata": {},
     "output_type": "execute_result"
    }
   ],
   "source": [
    "list(g)"
   ]
  },
  {
   "cell_type": "code",
   "execution_count": 36,
   "metadata": {
    "collapsed": false
   },
   "outputs": [
    {
     "data": {
      "text/plain": [
       "b'{\"errorDetail\":{\"code\":1,\"message\":\"The command \\'/bin/sh -c pip install -r requirements.txt\\' returned a non-zero code: 1\"},\"error\":\"The command \\'/bin/sh -c pip install -r requirements.txt\\' returned a non-zero code: 1\"}\\r\\n'"
      ]
     },
     "execution_count": 36,
     "metadata": {},
     "output_type": "execute_result"
    }
   ],
   "source": [
    "_[-1]"
   ]
  },
  {
   "cell_type": "code",
   "execution_count": 37,
   "metadata": {
    "collapsed": true
   },
   "outputs": [],
   "source": [
    "u=_"
   ]
  },
  {
   "cell_type": "code",
   "execution_count": 39,
   "metadata": {
    "collapsed": false
   },
   "outputs": [
    {
     "data": {
      "text/plain": [
       "{'error': \"The command '/bin/sh -c pip install -r requirements.txt' returned a non-zero code: 1\",\n",
       " 'errorDetail': {'code': 1,\n",
       "  'message': \"The command '/bin/sh -c pip install -r requirements.txt' returned a non-zero code: 1\"}}"
      ]
     },
     "execution_count": 39,
     "metadata": {},
     "output_type": "execute_result"
    }
   ],
   "source": [
    "import json\n",
    "json.loads(u.decode('utf-8'))"
   ]
  },
  {
   "cell_type": "code",
   "execution_count": null,
   "metadata": {
    "collapsed": true
   },
   "outputs": [],
   "source": []
  }
 ],
 "metadata": {
  "kernelspec": {
   "display_name": "Python 3",
   "language": "python",
   "name": "python3"
  },
  "language_info": {
   "codemirror_mode": {
    "name": "ipython",
    "version": 3
   },
   "file_extension": ".py",
   "mimetype": "text/x-python",
   "name": "python",
   "nbconvert_exporter": "python",
   "pygments_lexer": "ipython3",
   "version": "3.4.3"
  }
 },
 "nbformat": 4,
 "nbformat_minor": 0
}
